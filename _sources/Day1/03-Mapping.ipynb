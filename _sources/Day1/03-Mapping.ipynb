{
 "cells": [
  {
   "cell_type": "markdown",
   "id": "78fa49d6-5aa9-4ba5-aa0c-b4ab73b918bf",
   "metadata": {
    "slideshow": {
     "slide_type": "slide"
    }
   },
   "source": [
    "# Visualizing Black Histories in California\n",
    "April 27, 2022\n",
    "<img src=\"images/map1.png\">"
   ]
  },
  {
   "cell_type": "markdown",
   "id": "6d2ec483-d5f7-41bf-ad5b-8ac0488efac9",
   "metadata": {
    "slideshow": {
     "slide_type": "slide"
    }
   },
   "source": [
    "## Mapping in Python\n",
    "\n",
    "<img src=\"https://geopandas.org/en/stable/_static/geopandas_logo_web.svg\" width=600>\n",
    "\n",
    "We start by importing a new module `geopandas`. This is a pretty high level geospatial library, widely used by spatial data scientists all over the world. Don't worry about it too much for now, but know that it allows us to import a variety of spatial data formats, and plot them on a map.\n",
    "\n",
    "* [geopandas documentation](https://geopandas.readthedocs.io/en/latest/gallery/index.html)"
   ]
  },
  {
   "cell_type": "markdown",
   "id": "a5d2bfa8-5566-4e76-995e-ea5969c2652b",
   "metadata": {
    "slideshow": {
     "slide_type": "slide"
    }
   },
   "source": [
    "## Finding spatial data\n",
    "\n",
    "<img src=\"https://carto.com/img/definitions/spatial-analysis-languages.2906f68c.png\" width=600>\n",
    "\n",
    "Spatial data comes in many forms. Most popular are:\n",
    "- [Shapefiles](https://doc.arcgis.com/en/arcgis-online/reference/shapefiles.htm)\n",
    "- [geojson](https://en.wikipedia.org/wiki/GeoJSON)\n",
    "  - [geojson.io](https://geojson.io/)\n",
    "- csv files with latitude longitude columns"
   ]
  },
  {
   "cell_type": "markdown",
   "id": "539b37d1-2c83-47ab-98af-1d2f1881f3bf",
   "metadata": {
    "slideshow": {
     "slide_type": "slide"
    }
   },
   "source": [
    "## Using geopandas\n",
    "\n",
    "1. `import` geopandas and give it an alias `gpd`\n",
    "1. use `read_file` to bring spatial data to your notebook\n",
    "1. use `plot` to visualize"
   ]
  },
  {
   "cell_type": "code",
   "execution_count": null,
   "id": "650b66e4-ffd4-420f-86d8-d1caafe79fbe",
   "metadata": {
    "slideshow": {
     "slide_type": "fragment"
    }
   },
   "outputs": [],
   "source": [
    "# import geopandas\n",
    "import geopandas as gpd"
   ]
  },
  {
   "cell_type": "markdown",
   "id": "a9785bd8-b6bf-4f64-98cb-f5d3d8a3592a",
   "metadata": {
    "slideshow": {
     "slide_type": "slide"
    }
   },
   "source": [
    "## Loading data\n",
    "\n",
    "<img src=\"https://oehha.ca.gov/sites/default/files/media/files/images/logo/calenviroscreenlogosmaller.png\">\n",
    "\n",
    "Let's find some data to bring in.\n",
    "\n",
    "- https://oehha.ca.gov/calenviroscreen\n",
    "- [About the data](https://oehha.ca.gov/calenviroscreen/maps-data/download-data)"
   ]
  },
  {
   "cell_type": "code",
   "execution_count": null,
   "id": "0c78d7ea-1407-4d6b-8485-4bd734ad3028",
   "metadata": {
    "slideshow": {
     "slide_type": "fragment"
    }
   },
   "outputs": [],
   "source": [
    "# load spatial data into a variable \"cal\"\n",
    "cal = gpd.read_file('data/calenviroscreen40shpf2021shp.zip')"
   ]
  },
  {
   "cell_type": "markdown",
   "id": "a1e79e9d-a09a-409c-ad38-19748391dc00",
   "metadata": {
    "slideshow": {
     "slide_type": "slide"
    }
   },
   "source": [
    "Once the data is loaded, you can visualize it: `.plot`"
   ]
  },
  {
   "cell_type": "code",
   "execution_count": null,
   "id": "7ee7e608-e9e0-4335-8a4f-c393ba90efc8",
   "metadata": {
    "slideshow": {
     "slide_type": "fragment"
    }
   },
   "outputs": [],
   "source": [
    "# map it\n",
    "cal.plot()"
   ]
  },
  {
   "cell_type": "markdown",
   "id": "b9cc1ea1-2f0a-4caf-8a31-428fdaf515f4",
   "metadata": {
    "slideshow": {
     "slide_type": "slide"
    }
   },
   "source": [
    "Let's make the map bigger by adding an argument: `figsize`"
   ]
  },
  {
   "cell_type": "code",
   "execution_count": null,
   "id": "8f1f70b8-1aa5-4491-aa08-750dd141b22b",
   "metadata": {
    "slideshow": {
     "slide_type": "fragment"
    }
   },
   "outputs": [],
   "source": [
    "# map it, but larger\n",
    "cal.plot(figsize=(12,12))"
   ]
  },
  {
   "cell_type": "markdown",
   "id": "4e03dd0c-ce5c-4f6f-b4e6-263f6cb7de0f",
   "metadata": {
    "slideshow": {
     "slide_type": "slide"
    }
   },
   "source": [
    "## Data view\n",
    "\n",
    "Map layers (shapefiles, geojson files, etc) come with \"attribute\" data. You can look at the data through pandas commands.\n",
    "\n",
    "First, look at the data fields available: `.info`"
   ]
  },
  {
   "cell_type": "code",
   "execution_count": null,
   "id": "58db3e8f-26ef-48d1-93cf-17fcdc5801ab",
   "metadata": {
    "slideshow": {
     "slide_type": "fragment"
    }
   },
   "outputs": [],
   "source": [
    "# show info about the data\n",
    "cal.info()"
   ]
  },
  {
   "cell_type": "code",
   "execution_count": null,
   "id": "76447f2e-08c0-41a1-b0cd-d1cb816c9e4e",
   "metadata": {
    "slideshow": {
     "slide_type": "slide"
    }
   },
   "outputs": [],
   "source": [
    "# look at the first 5 rows using .head\n"
   ]
  },
  {
   "cell_type": "code",
   "execution_count": null,
   "id": "4c5a2230-1ee4-46c3-ac5f-fa35f53cf34f",
   "metadata": {
    "slideshow": {
     "slide_type": "fragment"
    }
   },
   "outputs": [],
   "source": [
    "# look at the last 5 rows using .tail\n"
   ]
  },
  {
   "cell_type": "code",
   "execution_count": null,
   "id": "97f27203-5bfd-48d9-9192-1d10c69ab609",
   "metadata": {
    "slideshow": {
     "slide_type": "slide"
    }
   },
   "outputs": [],
   "source": [
    "# look at a single random record using .sample\n"
   ]
  },
  {
   "cell_type": "code",
   "execution_count": null,
   "id": "fb5af1a0-e058-435f-947d-2c28b972ab6b",
   "metadata": {
    "slideshow": {
     "slide_type": "fragment"
    }
   },
   "outputs": [],
   "source": [
    "# plot a single random census tract (hint: chain multiple commands!)\n"
   ]
  },
  {
   "cell_type": "markdown",
   "id": "ced04a7a",
   "metadata": {
    "slideshow": {
     "slide_type": "slide"
    }
   },
   "source": [
    "## Choropleth maps\n",
    "\n",
    "<img src=\"https://dabrownstein.files.wordpress.com/2014/11/1861-slave-population-map.png\" width=600>\n",
    "\n",
    "- [Source: Mapping Slavery in the United States in 1860](https://dabrownstein.com/2013/02/22/mapping-slavery-in-1860/)"
   ]
  },
  {
   "cell_type": "markdown",
   "id": "1ab4eab6-c9c6-4675-b56b-3b7919624a31",
   "metadata": {
    "slideshow": {
     "slide_type": "slide"
    }
   },
   "source": [
    "Otherwise known as *thematic* maps, choropleth maps are a way to visualize *polygonial* data with colors. In other words, each region is colored a certain way, based on some criteria you define.\n",
    "\n",
    "- [geopandas examples](https://geopandas.org/en/stable/gallery/choropleths.html)\n",
    "\n",
    "Using the `.plot` function, we can add *arguments* to make it a choropleth map.\n",
    "- `column` defines which attribute you want to use to color the map\n",
    "- `scheme` defines how you want the colors to be distributed\n",
    "  - `quantiles`\n",
    "  - `NaturalBreaks`\n",
    "  - `UserDefined`\n",
    "- `legend` true or false\n",
    "- `cmap` choose a [color scheme](https://matplotlib.org/stable/tutorials/colors/colormaps.html)\n",
    "- `k` how many bins?"
   ]
  },
  {
   "cell_type": "code",
   "execution_count": null,
   "id": "7d718106-6a87-4c5e-992c-ee86cf7f380a",
   "metadata": {
    "slideshow": {
     "slide_type": "slide"
    }
   },
   "outputs": [],
   "source": [
    "# create a layer from the cal enviroscreen data\n",
    "layer1 = cal.plot(figsize=(12,12),\n",
    "                  column='PovertyP', \n",
    "                  scheme='quantiles', \n",
    "                  legend=True, \n",
    "                  cmap='OrRd',\n",
    "                  k=4)\n",
    "\n",
    "# give it a title\n",
    "layer1.set_title('Poverty in California', fontdict={'fontsize': '25', 'fontweight' : '3'})\n",
    "\n",
    "# turn the axes off\n",
    "layer1.set_axis_off();"
   ]
  },
  {
   "cell_type": "markdown",
   "id": "e582b525-22b8-445d-b604-1252639fc7b9",
   "metadata": {
    "slideshow": {
     "slide_type": "slide"
    }
   },
   "source": [
    "<div class=\"alert alert-success\">\n",
    "    <h2> Try this!</h2>\n",
    "    In the code cell that created the map above, what happens when you do the following?\n",
    "    <li>change the <code>k</code> value to 2</li>\n",
    "    <li>change the <code>column</code> value to a different attribute</li>\n",
    "    <li>change the <code>cmap</code> value to a different <a href=\"https://matplotlib.org/stable/tutorials/colors/colormaps.html\">color scheme</a></li>\n",
    "</div>"
   ]
  },
  {
   "cell_type": "markdown",
   "id": "6476e8a5-1a81-43f9-acd4-14e8340490cd",
   "metadata": {
    "slideshow": {
     "slide_type": "slide"
    }
   },
   "source": [
    "### User defined bins"
   ]
  },
  {
   "cell_type": "code",
   "execution_count": null,
   "id": "586f3a3b-5fb8-495f-9c5a-523cd439bc7e",
   "metadata": {},
   "outputs": [],
   "source": [
    "map = cal.plot(figsize=(12,12),\n",
    "                  column='AsthmaP', \n",
    "                  legend=True, \n",
    "                  cmap='Greens', \n",
    "                  scheme='user_defined', \n",
    "                  classification_kwds={'bins':[80,100]})\n",
    "\n",
    "# give it a title\n",
    "map.set_title('Asthma in California', fontdict={'fontsize': '25', 'fontweight' : '3'})\n",
    "\n",
    "# turn the axes off\n",
    "map.set_axis_off();"
   ]
  },
  {
   "cell_type": "markdown",
   "id": "b4478e3e-8db1-4a14-85ad-b28e71322acf",
   "metadata": {
    "slideshow": {
     "slide_type": "slide"
    }
   },
   "source": [
    "<div class=\"alert alert-success\"><h2>It's your turn!</h2>\n",
    "    Create a map with different attributes, colors, titles, etc. Be creative! And post your final output to the <a href=\"https://docs.google.com/document/d/1NYIlXmgWLL3nPDflwI-7PcjRjD95-1im5b8ecnvS5fw/edit?usp=sharing\">class gallery</a>.\n",
    "</div>"
   ]
  },
  {
   "cell_type": "markdown",
   "id": "f22f9fdc-78f5-460c-b10d-f39e13e06723",
   "metadata": {
    "slideshow": {
     "slide_type": "slide"
    }
   },
   "source": [
    "# Green Book\n",
    "\n",
    "<img src=\"images/gb1.png\" width=800>"
   ]
  },
  {
   "cell_type": "code",
   "execution_count": null,
   "id": "de2c5949-68c2-44a8-b01c-95b772bd3580",
   "metadata": {
    "slideshow": {
     "slide_type": "slide"
    }
   },
   "outputs": [],
   "source": [
    "# bring in greenbook data csv file\n",
    "green = gpd.read_file('data/47greenbookla.csv')"
   ]
  },
  {
   "cell_type": "code",
   "execution_count": null,
   "id": "059fea06-e6ec-441d-951d-502032d86b77",
   "metadata": {
    "slideshow": {
     "slide_type": "fragment"
    }
   },
   "outputs": [],
   "source": [
    "# convert the csv file into a \"geodataframe\"\n",
    "green = gpd.GeoDataFrame(green, \n",
    "                         geometry=gpd.points_from_xy(green.Longitude, green.Latitude), \n",
    "                         crs=\"EPSG:4326\")"
   ]
  },
  {
   "cell_type": "code",
   "execution_count": null,
   "id": "2c6b14fd-a9c4-4257-be1f-97b79d7e7d7c",
   "metadata": {
    "slideshow": {
     "slide_type": "fragment"
    }
   },
   "outputs": [],
   "source": [
    "green.head()"
   ]
  },
  {
   "cell_type": "code",
   "execution_count": null,
   "id": "f961160a-1f8d-4311-9ff5-390b8c9b773b",
   "metadata": {
    "slideshow": {
     "slide_type": "slide"
    }
   },
   "outputs": [],
   "source": [
    "green.plot()"
   ]
  },
  {
   "cell_type": "code",
   "execution_count": null,
   "id": "ed32e69a-a51f-4107-9431-a94cbde6af37",
   "metadata": {
    "slideshow": {
     "slide_type": "slide"
    }
   },
   "outputs": [],
   "source": [
    "# bigger, styled\n",
    "map = green.plot(figsize=(12,12),column='Type',legend=True)\n",
    "\n",
    "# give it a title\n",
    "map.set_title('Greenbook Locations in LA', fontdict={'fontsize': '25', 'fontweight' : '3'})\n",
    "\n",
    "# turn the axes off\n",
    "map.set_axis_off();"
   ]
  },
  {
   "cell_type": "markdown",
   "id": "d0ffe406-f7e9-46d0-80f0-653a4e3c7400",
   "metadata": {
    "slideshow": {
     "slide_type": "slide"
    }
   },
   "source": [
    "## Multiple layers\n",
    "\n",
    "We have learned how to visualize single data layers. But what if we wanted to map *multiple* layers? To do so, we introduce two new libraries to our project.\n",
    "\n",
    "- [Maplotlib](https://matplotlib.org/) allows us to create multiple plots, or multiple layers on a single plot\n",
    "- [Contextily](https://contextily.readthedocs.io/en/latest/intro_guide.html) allows us to add a basemap to our map\n"
   ]
  },
  {
   "cell_type": "code",
   "execution_count": null,
   "id": "3f863d05-4236-4d07-840b-ed8f2e319784",
   "metadata": {
    "slideshow": {
     "slide_type": "fragment"
    }
   },
   "outputs": [],
   "source": [
    "import matplotlib.pyplot as plt\n",
    "import contextily as cx"
   ]
  },
  {
   "cell_type": "markdown",
   "id": "725f21df",
   "metadata": {
    "slideshow": {
     "slide_type": "slide"
    }
   },
   "source": [
    "The syntax to create a plot with matplotlib is a bit more complicated. But get the hang of it, and you will learn how to create layered maps in no time!"
   ]
  },
  {
   "cell_type": "code",
   "execution_count": null,
   "id": "a6837ae5-013f-41cf-85dc-76a5aea7d4ad",
   "metadata": {
    "slideshow": {
     "slide_type": "slide"
    }
   },
   "outputs": [],
   "source": [
    "# set up the \"subplot\"\n",
    "# note that \"ax\" is the single plot's identifier\n",
    "fig, ax = plt.subplots(figsize=(12,12))\n",
    "\n",
    "# add the \n",
    "green.plot(\n",
    "            ax=ax, # add this layer to the \"ax\" plot\n",
    "            column='Type',\n",
    "            legend=True,\n",
    "            markersize=100)\n",
    "\n",
    "# give it a title\n",
    "ax.set_title('Greenbook Locations in LA', fontdict={'fontsize': 25, 'fontweight' : 3})\n",
    "\n",
    "# turn the axes off\n",
    "ax.set_axis_off()\n",
    "\n",
    "# add a basemap\n",
    "cx.add_basemap(ax, crs=green.crs.to_string())"
   ]
  },
  {
   "cell_type": "markdown",
   "id": "9ee1e626-049f-4ab9-9ebc-c226e3f9756e",
   "metadata": {
    "slideshow": {
     "slide_type": "slide"
    }
   },
   "source": [
    "## Mapping greenbook locations with enviroscreen data"
   ]
  },
  {
   "cell_type": "markdown",
   "id": "fdb9c4d4-8f1d-458d-a844-611b1cdf7c80",
   "metadata": {
    "slideshow": {
     "slide_type": "fragment"
    }
   },
   "source": [
    "Check: are the data layers in the same projection?"
   ]
  },
  {
   "cell_type": "code",
   "execution_count": null,
   "id": "3635822f-c577-44b1-b2aa-0769c013a079",
   "metadata": {
    "scrolled": true,
    "slideshow": {
     "slide_type": "slide"
    }
   },
   "outputs": [],
   "source": [
    "cal.crs"
   ]
  },
  {
   "cell_type": "code",
   "execution_count": null,
   "id": "9be812f1-730e-43db-951c-5066b650c728",
   "metadata": {
    "slideshow": {
     "slide_type": "fragment"
    }
   },
   "outputs": [],
   "source": [
    "green.crs"
   ]
  },
  {
   "cell_type": "code",
   "execution_count": null,
   "id": "d9161ebd-5e55-459c-970b-bd0f24adf894",
   "metadata": {
    "slideshow": {
     "slide_type": "slide"
    }
   },
   "outputs": [],
   "source": [
    "# project greenbook data to WGS 84\n",
    "cal=cal.to_crs(4326)"
   ]
  },
  {
   "cell_type": "code",
   "execution_count": null,
   "id": "e7fe34e3-b6dc-4b81-b687-4108feaccb05",
   "metadata": {
    "slideshow": {
     "slide_type": "fragment"
    }
   },
   "outputs": [],
   "source": [
    "# check the crs now\n",
    "cal.crs"
   ]
  },
  {
   "cell_type": "code",
   "execution_count": null,
   "id": "a54d44a1-5a0f-4c54-964b-297e93c66dbe",
   "metadata": {
    "slideshow": {
     "slide_type": "slide"
    }
   },
   "outputs": [],
   "source": [
    "# set up the \"subplot\"\n",
    "# note that \"ax\" is the single plot's identifier\n",
    "fig, ax = plt.subplots(figsize=(12,12))\n",
    "\n",
    "# add the enviroscreen layer\n",
    "cal.plot(\n",
    "            ax=ax, # this puts this layer in the \"ax\" plot\n",
    "            column='AsthmaP', \n",
    "            legend=False, \n",
    "            cmap='Greens', \n",
    "            scheme='user_defined', \n",
    "            classification_kwds={'bins':[80,100]})\n",
    "\n",
    "# add greenbook locations\n",
    "green.plot(\n",
    "            ax=ax,\n",
    "            column = 'Type',\n",
    "            legend=True\n",
    "          )\n",
    "\n",
    "# turn the axes off\n",
    "ax.set_axis_off();"
   ]
  },
  {
   "cell_type": "markdown",
   "id": "77d23178-3144-4550-9b9e-fc6d518b81cb",
   "metadata": {
    "slideshow": {
     "slide_type": "slide"
    }
   },
   "source": [
    "## Zoom in to a specific layer"
   ]
  },
  {
   "cell_type": "code",
   "execution_count": null,
   "id": "ec85bf28-c993-4d90-ab8f-15d900e1a6cb",
   "metadata": {},
   "outputs": [],
   "source": [
    "# set up the \"subplot\"\n",
    "# note that \"ax\" is the single plot's identifier\n",
    "fig, ax = plt.subplots(figsize=(12,12))\n",
    "\n",
    "# add the enviroscreen layer\n",
    "cal.plot(\n",
    "          ax = ax,\n",
    "          column = 'AsthmaP', \n",
    "          cmap = 'Greens', \n",
    "          scheme = 'user_defined', \n",
    "          alpha = 0.5,\n",
    "          classification_kwds = {'bins':[50,100]})\n",
    "\n",
    "# add the greenbook locations\n",
    "green.plot(ax = ax,\n",
    "           column = 'Type',\n",
    "           markersize = 100,\n",
    "           legend = True)\n",
    "\n",
    "# get the bounding box of the greenbook data points\n",
    "minx, miny, maxx, maxy = green.geometry.total_bounds\n",
    "\n",
    "# set the extent of the map to these bounds\n",
    "ax.set_xlim(minx - 0.1, maxx + 0.1) # added/substracted value is to give some margin around total bounds\n",
    "ax.set_ylim(miny - 0.1, maxy + 0.1)\n",
    "\n",
    "# give it a title\n",
    "ax.set_title('Greenbook Locations in LA\\n(green = more than 50% Asthma regions)', fontdict={'fontsize': '20', 'fontweight' : '3'})\n",
    "\n",
    "# add a basemap\n",
    "cx.add_basemap(ax, crs=green.crs.to_string())\n",
    "\n",
    "# turn the axes off\n",
    "ax.set_axis_off();"
   ]
  },
  {
   "cell_type": "markdown",
   "id": "13d18295-dff4-4bc9-a3bc-92c8663a2a5d",
   "metadata": {
    "slideshow": {
     "slide_type": "slide"
    },
    "tags": []
   },
   "source": [
    "# Redlining\n",
    "\n",
    "<img src=\"images/red1.png\" width=600>\n",
    "\n",
    "- [Mapping Inequality Maproom by University of Richmond](https://dsl.richmond.edu/panorama/redlining/#loc=5/39.1/-94.58)\n",
    "- [Downloadable data](https://dsl.richmond.edu/panorama/redlining/#loc=11/37.81/-122.369&city=oakland-ca&area=D9&adview=full&text=downloads)\n",
    "\n"
   ]
  },
  {
   "cell_type": "markdown",
   "id": "a767248b-62df-4096-a1f9-61adf7865d50",
   "metadata": {
    "slideshow": {
     "slide_type": "slide"
    }
   },
   "source": [
    "### An LA example"
   ]
  },
  {
   "cell_type": "code",
   "execution_count": null,
   "id": "cc66543b-c686-4ded-a69f-74a62e462da8",
   "metadata": {
    "slideshow": {
     "slide_type": "fragment"
    }
   },
   "outputs": [],
   "source": [
    "red = gpd.read_file('https://dsl.richmond.edu/panorama/redlining/static/downloads/geojson/CALosAngeles1939.geojson')"
   ]
  },
  {
   "cell_type": "code",
   "execution_count": null,
   "id": "bb0c491a-86d6-4f23-b49a-70f96c604066",
   "metadata": {
    "slideshow": {
     "slide_type": "slide"
    }
   },
   "outputs": [],
   "source": [
    "red.head()"
   ]
  },
  {
   "cell_type": "code",
   "execution_count": null,
   "id": "bcb050dd-49fa-4a62-a198-8acd85f0db12",
   "metadata": {
    "slideshow": {
     "slide_type": "slide"
    }
   },
   "outputs": [],
   "source": [
    "# set up the plot\n",
    "fig, ax = plt.subplots(figsize=(12,12))\n",
    "\n",
    "# add the redlining data\n",
    "red.plot(\n",
    "        ax=ax,\n",
    "        column='holc_grade',\n",
    "        legend=True,\n",
    "         )\n",
    "\n",
    "# give it a title\n",
    "ax.set_title('Redlining in Los Angeles', fontdict={'fontsize': '20', 'fontweight' : '3'})\n",
    "\n",
    "# add a basemap\n",
    "cx.add_basemap(ax, crs=green.crs.to_string())\n",
    "\n",
    "# turn the axes off\n",
    "ax.set_axis_off();"
   ]
  },
  {
   "cell_type": "code",
   "execution_count": null,
   "id": "66781c05-e28b-4188-89b1-1e76d02e90f9",
   "metadata": {
    "slideshow": {
     "slide_type": "slide"
    }
   },
   "outputs": [],
   "source": [
    "# filter data to only show where holc_grade is \"D\"\n",
    "D = red[red['holc_grade'] == 'D']\n",
    "D"
   ]
  },
  {
   "cell_type": "code",
   "execution_count": null,
   "id": "bede1223-04af-4fc8-a2ed-8ab48cd7b7dc",
   "metadata": {
    "slideshow": {
     "slide_type": "slide"
    }
   },
   "outputs": [],
   "source": [
    "fig, ax = plt.subplots(figsize=(12,12))\n",
    "\n",
    "# plot \"D\" redlined areas\n",
    "D.plot(\n",
    "        ax=ax,\n",
    "        legend=True,\n",
    "        color='red',\n",
    "        alpha=0.5\n",
    "         )\n",
    "\n",
    "# add the greenbook locations\n",
    "green.plot(\n",
    "          ax=ax,\n",
    "          column = 'Type',\n",
    "          markersize = 100,\n",
    "          legend=True)\n",
    "\n",
    "# give it a title\n",
    "ax.set_title('Redlining Grade \"D\" and Greenbook Locations in LA', fontdict={'fontsize': '20', 'fontweight' : '3'})\n",
    "\n",
    "# add a basemap\n",
    "cx.add_basemap(ax, crs=green.crs.to_string())\n",
    "\n",
    "# turn the axes off\n",
    "ax.set_axis_off();"
   ]
  },
  {
   "cell_type": "markdown",
   "id": "a64dced3",
   "metadata": {
    "slideshow": {
     "slide_type": "slide"
    }
   },
   "source": [
    "<div class=\"alert alert-success\"><h2>It's your turn!</h2>\n",
    "    Create a map from a different redlining location and post your final output to the <a href=\"https://docs.google.com/document/d/1NYIlXmgWLL3nPDflwI-7PcjRjD95-1im5b8ecnvS5fw/edit?usp=sharing\">class gallery</a>.\n",
    "</div>"
   ]
  },
  {
   "cell_type": "markdown",
   "id": "ca17d552-cc91-4863-b3f6-448152caee84",
   "metadata": {
    "slideshow": {
     "slide_type": "slide"
    }
   },
   "source": [
    "# Interactive maps\n",
    "\n",
    "A fun teaser!"
   ]
  },
  {
   "cell_type": "code",
   "execution_count": null,
   "id": "03908594-0099-4a26-84e0-a0b1dffc7b13",
   "metadata": {
    "slideshow": {
     "slide_type": "slide"
    }
   },
   "outputs": [],
   "source": [
    "import plotly.express as px\n",
    "\n",
    "fig = px.scatter_mapbox(green,\n",
    "                        lat=green.geometry.y,\n",
    "                        lon=green.geometry.x,\n",
    "                        hover_name=\"Type\",\n",
    "                        hover_data=['Type','Name','Street Address'],\n",
    "                        color=\"Type\",\n",
    "                        zoom=10,\n",
    "                        height=600,\n",
    "                       mapbox_style='stamen-toner')\n",
    "fig.update_traces(marker={'size': 15})\n",
    "fig.show()"
   ]
  }
 ],
 "metadata": {
  "celltoolbar": "Slideshow",
  "kernelspec": {
   "display_name": "Python 3 (ipykernel)",
   "language": "python",
   "name": "python3"
  },
  "language_info": {
   "codemirror_mode": {
    "name": "ipython",
    "version": 3
   },
   "file_extension": ".py",
   "mimetype": "text/x-python",
   "name": "python",
   "nbconvert_exporter": "python",
   "pygments_lexer": "ipython3",
   "version": "3.9.6"
  },
  "toc": {
   "base_numbering": 1,
   "nav_menu": {},
   "number_sections": true,
   "sideBar": true,
   "skip_h1_title": false,
   "title_cell": "Table of Contents",
   "title_sidebar": "Contents",
   "toc_cell": false,
   "toc_position": {},
   "toc_section_display": true,
   "toc_window_display": false
  }
 },
 "nbformat": 4,
 "nbformat_minor": 5
}
